{
 "cells": [
  {
   "cell_type": "code",
   "execution_count": 1,
   "metadata": {},
   "outputs": [],
   "source": [
    "import boto3\n",
    "import numpy as np\n",
    "import pandas as pd\n",
    "from sagemaker import get_execution_role\n",
    "import datetime\n",
    "import matplotlib.pyplot as plt\n",
    "import matplotlib.cm as cm\n",
    "%matplotlib inline\n",
    "import seaborn as sns"
   ]
  },
  {
   "cell_type": "code",
   "execution_count": 2,
   "metadata": {},
   "outputs": [],
   "source": [
    "# get data\n",
    "role = get_execution_role()\n",
    "bucket='aws-ml-anomalydetection'\n",
    "data_key = 'PS_20174392719_1491204439457_log.csv'\n",
    "data_location = 's3://{}/{}'.format(bucket, data_key)\n",
    "data = pd.read_csv(data_location)"
   ]
  },
  {
   "cell_type": "code",
   "execution_count": 3,
   "metadata": {},
   "outputs": [
    {
     "name": "stdout",
     "output_type": "stream",
     "text": [
      "Training input/output will be stored in: s3://aws-ml-anomalydetection/sagemaker/aws-ml-anomalydetection\n"
     ]
    }
   ],
   "source": [
    "# check if the bucket exists\n",
    "prefix = 'sagemaker/aws-ml-anomalydetection'\n",
    "try:\n",
    "    boto3.Session().client('s3').head_bucket(Bucket=bucket)\n",
    "except botocore.exceptions.ParamValidationError as e:\n",
    "    print('Hey! You either forgot to specify your S3 bucket'\n",
    "          ' or you gave your bucket an invalid name!')\n",
    "except botocore.exceptions.ClientError as e:\n",
    "    if e.response['Error']['Code'] == '403':\n",
    "        print(\"Hey! You don't have permission to access the bucket, {}.\".format(bucket))\n",
    "    elif e.response['Error']['Code'] == '404':\n",
    "        print(\"Hey! Your bucket, {}, doesn't exist!\".format(bucket))\n",
    "    else:\n",
    "        raise\n",
    "else:\n",
    "    print('Training input/output will be stored in: s3://{}/{}'.format(bucket, prefix))"
   ]
  },
  {
   "cell_type": "code",
   "execution_count": 4,
   "metadata": {},
   "outputs": [],
   "source": [
    "# add row id column\n",
    "data['rowId'] = np.arange(len(data))\n",
    "# force everything to factors...\n",
    "data.type = pd.Categorical(data.type)\n",
    "data.nameOrig = pd.Categorical(data.nameOrig)\n",
    "data.nameDest = pd.Categorical(data.nameDest)\n",
    "data[\"typeF\"] = data.type.cat.codes\n",
    "data[\"nameOrigF\"] = data.nameOrig.cat.codes\n",
    "data[\"nameDestF\"] = data.nameDest.cat.codes"
   ]
  },
  {
   "cell_type": "code",
   "execution_count": 5,
   "metadata": {},
   "outputs": [],
   "source": [
    "# feature engineering: hour-of-day and day-of-week\n",
    "data[\"hourOfDay\"] = data.step % 24\n",
    "data[\"dayOfWeek\"] = (round((data.step / 24) + 0.5)) % 7"
   ]
  },
  {
   "cell_type": "code",
   "execution_count": 6,
   "metadata": {},
   "outputs": [
    {
     "data": {
      "text/plain": [
       "Index(['CASH_IN', 'CASH_OUT', 'DEBIT', 'PAYMENT', 'TRANSFER'], dtype='object')"
      ]
     },
     "execution_count": 6,
     "metadata": {},
     "output_type": "execute_result"
    }
   ],
   "source": [
    "data.type.cat.categories"
   ]
  },
  {
   "cell_type": "code",
   "execution_count": 7,
   "metadata": {},
   "outputs": [],
   "source": [
    "# based on exploratory analysis, let's train two models, one on TRANSFERS, one on CASH_OUTs\n",
    "# for now, just do the TRANSFER model...\n",
    "dataTRANSFER = data[data.typeF==4]\n",
    "dataCASH_OUT = data[data.typeF==1]"
   ]
  },
  {
   "cell_type": "code",
   "execution_count": 8,
   "metadata": {},
   "outputs": [
    {
     "data": {
      "text/plain": [
       "(532909, 17)"
      ]
     },
     "execution_count": 8,
     "metadata": {},
     "output_type": "execute_result"
    }
   ],
   "source": [
    "dataTRANSFER.shape"
   ]
  },
  {
   "cell_type": "code",
   "execution_count": 9,
   "metadata": {},
   "outputs": [
    {
     "data": {
      "text/plain": [
       "(2237500, 17)"
      ]
     },
     "execution_count": 9,
     "metadata": {},
     "output_type": "execute_result"
    }
   ],
   "source": [
    "dataCASH_OUT.shape"
   ]
  },
  {
   "cell_type": "code",
   "execution_count": 10,
   "metadata": {},
   "outputs": [],
   "source": [
    "# origData is the original data + new features\n",
    "# data is reset to be ready for training\n",
    "origDataTRANSFER = dataTRANSFER.copy()\n",
    "origDataCASH_OUT = dataCASH_OUT.copy()\n",
    "dataTRANSFER = origDataTRANSFER[[\"isFraud\",\"amount\",\"oldbalanceOrg\",\"newbalanceOrig\",\"oldbalanceDest\",\"newbalanceDest\"]]\n",
    "dataCASH_OUT = origDataCASH_OUT[[\"isFraud\",\"amount\",\"oldbalanceOrg\",\"newbalanceOrig\",\"oldbalanceDest\",\"newbalanceDest\"]]"
   ]
  },
  {
   "cell_type": "code",
   "execution_count": 11,
   "metadata": {},
   "outputs": [],
   "source": [
    "# will give train, test, val for TRANSFER\n",
    "from sklearn.model_selection import train_test_split\n",
    "dataTrainZTRANSFER, dataValTRANSFER = train_test_split(dataTRANSFER, test_size=0.2)\n",
    "dataTrainTRANSFER, dataTestTRANSFER = train_test_split(dataTrainZTRANSFER, test_size=0.2)\n",
    "dataTrainXTRANSFER = dataTrainTRANSFER.loc[:, dataTrainTRANSFER.columns != 'isFraud']\n",
    "dataTrainYTRANSFER = dataTrainTRANSFER.isFraud\n",
    "\n",
    "# will give train, test, val for CASH_OUT\n",
    "from sklearn.model_selection import train_test_split\n",
    "dataTrainZCASH_OUT, dataValCASH_OUT = train_test_split(dataCASH_OUT, test_size=0.2)\n",
    "dataTrainCASH_OUT, dataTestCASH_OUT = train_test_split(dataTrainZCASH_OUT, test_size=0.2)\n",
    "dataTrainXCASH_OUT = dataTrainCASH_OUT.loc[:, dataTrainCASH_OUT.columns != 'isFraud']\n",
    "dataTrainYCASH_OUT = dataTrainCASH_OUT.isFraud"
   ]
  },
  {
   "cell_type": "code",
   "execution_count": 12,
   "metadata": {},
   "outputs": [
    {
     "data": {
      "text/plain": [
       "(341061, 5)"
      ]
     },
     "execution_count": 12,
     "metadata": {},
     "output_type": "execute_result"
    }
   ],
   "source": [
    "dataTrainXTRANSFER.shape"
   ]
  },
  {
   "cell_type": "code",
   "execution_count": 13,
   "metadata": {},
   "outputs": [
    {
     "data": {
      "text/plain": [
       "(341061,)"
      ]
     },
     "execution_count": 13,
     "metadata": {},
     "output_type": "execute_result"
    }
   ],
   "source": [
    "dataTrainYTRANSFER.shape"
   ]
  },
  {
   "cell_type": "code",
   "execution_count": 14,
   "metadata": {},
   "outputs": [
    {
     "data": {
      "text/plain": [
       "(1432000, 5)"
      ]
     },
     "execution_count": 14,
     "metadata": {},
     "output_type": "execute_result"
    }
   ],
   "source": [
    "dataTrainXCASH_OUT.shape"
   ]
  },
  {
   "cell_type": "code",
   "execution_count": 15,
   "metadata": {},
   "outputs": [
    {
     "data": {
      "text/plain": [
       "(1432000,)"
      ]
     },
     "execution_count": 15,
     "metadata": {},
     "output_type": "execute_result"
    }
   ],
   "source": [
    "dataTrainYCASH_OUT.shape"
   ]
  },
  {
   "cell_type": "code",
   "execution_count": 16,
   "metadata": {},
   "outputs": [],
   "source": [
    "import botocore\n",
    "import sagemaker\n",
    "import sys\n",
    "\n",
    "from sagemaker import RandomCutForest\n",
    "\n",
    "session = sagemaker.Session()\n",
    "\n",
    "# specify general training job information\n",
    "rcfTRANSFER = RandomCutForest(role=role,\n",
    "                              train_instance_count=1,\n",
    "                              train_instance_type='ml.m4.xlarge',\n",
    "                              data_location='s3://{}/{}/'.format(bucket, prefix),\n",
    "                              output_path='s3://{}/{}/output'.format(bucket, prefix),\n",
    "                              num_samples_per_tree=512,\n",
    "                              num_trees=50)\n",
    "trainRecordSetTRANSFER = rcfTRANSFER.record_set(train=dataTrainXTRANSFER.as_matrix(),\n",
    "                                        labels=dataTrainYTRANSFER.as_matrix(),\n",
    "                                        channel='train')\n",
    "\n",
    "rcfCASH_OUT = RandomCutForest(role=role,\n",
    "                              train_instance_count=1,\n",
    "                              train_instance_type='ml.m4.xlarge',\n",
    "                              data_location='s3://{}/{}/'.format(bucket, prefix),\n",
    "                              output_path='s3://{}/{}/output'.format(bucket, prefix),\n",
    "                              num_samples_per_tree=512,\n",
    "                              num_trees=50)\n",
    "trainRecordSetCASH_OUT = rcfCASH_OUT.record_set(train=dataTrainXCASH_OUT.as_matrix(),\n",
    "                                        labels=dataTrainYCASH_OUT.as_matrix(),\n",
    "                                        channel='train')\n"
   ]
  },
  {
   "cell_type": "code",
   "execution_count": 17,
   "metadata": {},
   "outputs": [
    {
     "name": "stderr",
     "output_type": "stream",
     "text": [
      "INFO:sagemaker:Creating training-job with name: randomcutforest-2019-02-14-16-48-12-953\n"
     ]
    },
    {
     "name": "stdout",
     "output_type": "stream",
     "text": [
      "2019-02-14 16:48:13 Starting - Starting the training job...\n",
      "2019-02-14 16:48:14 Starting - Launching requested ML instances.........\n",
      "2019-02-14 16:49:48 Starting - Preparing the instances for training......\n",
      "2019-02-14 16:51:04 Downloading - Downloading input data\n",
      "2019-02-14 16:51:04 Training - Downloading the training image...\n",
      "2019-02-14 16:51:42 Training - Training image download completed. Training in progress..\n",
      "\u001b[31mDocker entrypoint called with argument(s): train\u001b[0m\n",
      "\u001b[31m[02/14/2019 16:51:44 INFO 140481196476224] Reading default configuration from /opt/amazon/lib/python2.7/site-packages/algorithm/resources/default-conf.json: {u'_ftp_port': 8999, u'num_samples_per_tree': 256, u'_tuning_objective_metric': u'', u'_num_gpus': u'auto', u'_log_level': u'info', u'_kvstore': u'dist_async', u'force_dense': u'true', u'epochs': 1, u'num_trees': 100, u'eval_metrics': [u'accuracy', u'precision_recall_fscore'], u'_num_kv_servers': u'auto', u'mini_batch_size': 1000}\u001b[0m\n",
      "\u001b[31m[02/14/2019 16:51:44 INFO 140481196476224] Reading provided configuration from /opt/ml/input/config/hyperparameters.json: {u'mini_batch_size': u'1000', u'feature_dim': u'5', u'num_samples_per_tree': u'512', u'num_trees': u'50'}\u001b[0m\n",
      "\u001b[31m[02/14/2019 16:51:44 INFO 140481196476224] Final configuration: {u'_ftp_port': 8999, u'num_samples_per_tree': u'512', u'_tuning_objective_metric': u'', u'_num_gpus': u'auto', u'_log_level': u'info', u'_kvstore': u'dist_async', u'force_dense': u'true', u'epochs': 1, u'feature_dim': u'5', u'num_trees': u'50', u'eval_metrics': [u'accuracy', u'precision_recall_fscore'], u'_num_kv_servers': u'auto', u'mini_batch_size': u'1000'}\u001b[0m\n",
      "\u001b[31m[02/14/2019 16:51:44 WARNING 140481196476224] Loggers have already been setup.\u001b[0m\n",
      "\u001b[31m[02/14/2019 16:51:44 INFO 140481196476224] Launching parameter server for role scheduler\u001b[0m\n",
      "\u001b[31m[02/14/2019 16:51:44 INFO 140481196476224] {'ECS_CONTAINER_METADATA_URI': 'http://169.254.170.2/v3/0661455d-bad7-4d34-8a9a-9aa6929ce73c', 'PROTOCOL_BUFFERS_PYTHON_IMPLEMENTATION_VERSION': '2', 'PATH': '/opt/amazon/bin:/usr/local/nvidia/bin:/usr/local/sbin:/usr/local/bin:/usr/sbin:/usr/bin:/sbin:/bin:/opt/amazon/bin:/opt/amazon/bin', 'SAGEMAKER_HTTP_PORT': '8080', 'HOME': '/root', 'PYTHONUNBUFFERED': 'TRUE', 'CANONICAL_ENVROOT': '/opt/amazon', 'LD_LIBRARY_PATH': '/opt/amazon/lib/python2.7/site-packages/cv2/../../../../lib:/usr/local/nvidia/lib64:/opt/amazon/lib', 'MXNET_KVSTORE_BIGARRAY_BOUND': '400000000', 'LANG': 'en_US.utf8', 'DMLC_INTERFACE': 'ethwe', 'SHLVL': '1', 'AWS_REGION': 'us-east-1', 'NVIDIA_VISIBLE_DEVICES': 'all', 'TRAINING_JOB_NAME': 'randomcutforest-2019-02-14-16-48-12-953', 'PROTOCOL_BUFFERS_PYTHON_IMPLEMENTATION': 'cpp', 'ENVROOT': '/opt/amazon', 'SAGEMAKER_DATA_PATH': '/opt/ml', 'NVIDIA_DRIVER_CAPABILITIES': 'compute,utility', 'NVIDIA_REQUIRE_CUDA': 'cuda>=9.0', 'OMP_NUM_THREADS': '2', 'HOSTNAME': 'aws', 'AWS_CONTAINER_CREDENTIALS_RELATIVE_URI': '/v2/credentials/6f2712d4-31c3-4bcb-852f-ab6e58a6dd97', 'PWD': '/', 'AWS_EXECUTION_ENV': 'AWS_ECS_EC2'}\u001b[0m\n",
      "\u001b[31m[02/14/2019 16:51:44 INFO 140481196476224] envs={'ECS_CONTAINER_METADATA_URI': 'http://169.254.170.2/v3/0661455d-bad7-4d34-8a9a-9aa6929ce73c', 'PROTOCOL_BUFFERS_PYTHON_IMPLEMENTATION_VERSION': '2', 'DMLC_NUM_WORKER': '1', 'DMLC_PS_ROOT_PORT': '9000', 'PATH': '/opt/amazon/bin:/usr/local/nvidia/bin:/usr/local/sbin:/usr/local/bin:/usr/sbin:/usr/bin:/sbin:/bin:/opt/amazon/bin:/opt/amazon/bin', 'SAGEMAKER_HTTP_PORT': '8080', 'HOME': '/root', 'PYTHONUNBUFFERED': 'TRUE', 'CANONICAL_ENVROOT': '/opt/amazon', 'LD_LIBRARY_PATH': '/opt/amazon/lib/python2.7/site-packages/cv2/../../../../lib:/usr/local/nvidia/lib64:/opt/amazon/lib', 'MXNET_KVSTORE_BIGARRAY_BOUND': '400000000', 'LANG': 'en_US.utf8', 'DMLC_INTERFACE': 'ethwe', 'SHLVL': '1', 'DMLC_PS_ROOT_URI': '10.32.0.5', 'AWS_REGION': 'us-east-1', 'NVIDIA_VISIBLE_DEVICES': 'all', 'TRAINING_JOB_NAME': 'randomcutforest-2019-02-14-16-48-12-953', 'PROTOCOL_BUFFERS_PYTHON_IMPLEMENTATION': 'cpp', 'ENVROOT': '/opt/amazon', 'SAGEMAKER_DATA_PATH': '/opt/ml', 'NVIDIA_DRIVER_CAPABILITIES': 'compute,utility', 'NVIDIA_REQUIRE_CUDA': 'cuda>=9.0', 'OMP_NUM_THREADS': '2', 'HOSTNAME': 'aws', 'AWS_CONTAINER_CREDENTIALS_RELATIVE_URI': '/v2/credentials/6f2712d4-31c3-4bcb-852f-ab6e58a6dd97', 'DMLC_ROLE': 'scheduler', 'PWD': '/', 'DMLC_NUM_SERVER': '1', 'AWS_EXECUTION_ENV': 'AWS_ECS_EC2'}\u001b[0m\n",
      "\u001b[31m[02/14/2019 16:51:44 INFO 140481196476224] Launching parameter server for role server\u001b[0m\n",
      "\u001b[31m[02/14/2019 16:51:44 INFO 140481196476224] {'ECS_CONTAINER_METADATA_URI': 'http://169.254.170.2/v3/0661455d-bad7-4d34-8a9a-9aa6929ce73c', 'PROTOCOL_BUFFERS_PYTHON_IMPLEMENTATION_VERSION': '2', 'PATH': '/opt/amazon/bin:/usr/local/nvidia/bin:/usr/local/sbin:/usr/local/bin:/usr/sbin:/usr/bin:/sbin:/bin:/opt/amazon/bin:/opt/amazon/bin', 'SAGEMAKER_HTTP_PORT': '8080', 'HOME': '/root', 'PYTHONUNBUFFERED': 'TRUE', 'CANONICAL_ENVROOT': '/opt/amazon', 'LD_LIBRARY_PATH': '/opt/amazon/lib/python2.7/site-packages/cv2/../../../../lib:/usr/local/nvidia/lib64:/opt/amazon/lib', 'MXNET_KVSTORE_BIGARRAY_BOUND': '400000000', 'LANG': 'en_US.utf8', 'DMLC_INTERFACE': 'ethwe', 'SHLVL': '1', 'AWS_REGION': 'us-east-1', 'NVIDIA_VISIBLE_DEVICES': 'all', 'TRAINING_JOB_NAME': 'randomcutforest-2019-02-14-16-48-12-953', 'PROTOCOL_BUFFERS_PYTHON_IMPLEMENTATION': 'cpp', 'ENVROOT': '/opt/amazon', 'SAGEMAKER_DATA_PATH': '/opt/ml', 'NVIDIA_DRIVER_CAPABILITIES': 'compute,utility', 'NVIDIA_REQUIRE_CUDA': 'cuda>=9.0', 'OMP_NUM_THREADS': '2', 'HOSTNAME': 'aws', 'AWS_CONTAINER_CREDENTIALS_RELATIVE_URI': '/v2/credentials/6f2712d4-31c3-4bcb-852f-ab6e58a6dd97', 'PWD': '/', 'AWS_EXECUTION_ENV': 'AWS_ECS_EC2'}\u001b[0m\n",
      "\u001b[31m[02/14/2019 16:51:44 INFO 140481196476224] envs={'ECS_CONTAINER_METADATA_URI': 'http://169.254.170.2/v3/0661455d-bad7-4d34-8a9a-9aa6929ce73c', 'PROTOCOL_BUFFERS_PYTHON_IMPLEMENTATION_VERSION': '2', 'DMLC_NUM_WORKER': '1', 'DMLC_PS_ROOT_PORT': '9000', 'PATH': '/opt/amazon/bin:/usr/local/nvidia/bin:/usr/local/sbin:/usr/local/bin:/usr/sbin:/usr/bin:/sbin:/bin:/opt/amazon/bin:/opt/amazon/bin', 'SAGEMAKER_HTTP_PORT': '8080', 'HOME': '/root', 'PYTHONUNBUFFERED': 'TRUE', 'CANONICAL_ENVROOT': '/opt/amazon', 'LD_LIBRARY_PATH': '/opt/amazon/lib/python2.7/site-packages/cv2/../../../../lib:/usr/local/nvidia/lib64:/opt/amazon/lib', 'MXNET_KVSTORE_BIGARRAY_BOUND': '400000000', 'LANG': 'en_US.utf8', 'DMLC_INTERFACE': 'ethwe', 'SHLVL': '1', 'DMLC_PS_ROOT_URI': '10.32.0.5', 'AWS_REGION': 'us-east-1', 'NVIDIA_VISIBLE_DEVICES': 'all', 'TRAINING_JOB_NAME': 'randomcutforest-2019-02-14-16-48-12-953', 'PROTOCOL_BUFFERS_PYTHON_IMPLEMENTATION': 'cpp', 'ENVROOT': '/opt/amazon', 'SAGEMAKER_DATA_PATH': '/opt/ml', 'NVIDIA_DRIVER_CAPABILITIES': 'compute,utility', 'NVIDIA_REQUIRE_CUDA': 'cuda>=9.0', 'OMP_NUM_THREADS': '2', 'HOSTNAME': 'aws', 'AWS_CONTAINER_CREDENTIALS_RELATIVE_URI': '/v2/credentials/6f2712d4-31c3-4bcb-852f-ab6e58a6dd97', 'DMLC_ROLE': 'server', 'PWD': '/', 'DMLC_NUM_SERVER': '1', 'AWS_EXECUTION_ENV': 'AWS_ECS_EC2'}\u001b[0m\n",
      "\u001b[31m[02/14/2019 16:51:44 INFO 140481196476224] Environment: {'ECS_CONTAINER_METADATA_URI': 'http://169.254.170.2/v3/0661455d-bad7-4d34-8a9a-9aa6929ce73c', 'PROTOCOL_BUFFERS_PYTHON_IMPLEMENTATION_VERSION': '2', 'DMLC_PS_ROOT_PORT': '9000', 'DMLC_NUM_WORKER': '1', 'SAGEMAKER_HTTP_PORT': '8080', 'PATH': '/opt/amazon/bin:/usr/local/nvidia/bin:/usr/local/sbin:/usr/local/bin:/usr/sbin:/usr/bin:/sbin:/bin:/opt/amazon/bin:/opt/amazon/bin', 'PYTHONUNBUFFERED': 'TRUE', 'CANONICAL_ENVROOT': '/opt/amazon', 'LD_LIBRARY_PATH': '/opt/amazon/lib/python2.7/site-packages/cv2/../../../../lib:/usr/local/nvidia/lib64:/opt/amazon/lib', 'MXNET_KVSTORE_BIGARRAY_BOUND': '400000000', 'LANG': 'en_US.utf8', 'DMLC_INTERFACE': 'ethwe', 'SHLVL': '1', 'DMLC_PS_ROOT_URI': '10.32.0.5', 'AWS_REGION': 'us-east-1', 'NVIDIA_VISIBLE_DEVICES': 'all', 'TRAINING_JOB_NAME': 'randomcutforest-2019-02-14-16-48-12-953', 'HOME': '/root', 'PROTOCOL_BUFFERS_PYTHON_IMPLEMENTATION': 'cpp', 'ENVROOT': '/opt/amazon', 'SAGEMAKER_DATA_PATH': '/opt/ml', 'NVIDIA_DRIVER_CAPABILITIES': 'compute,utility', 'NVIDIA_REQUIRE_CUDA': 'cuda>=9.0', 'OMP_NUM_THREADS': '2', 'HOSTNAME': 'aws', 'AWS_CONTAINER_CREDENTIALS_RELATIVE_URI': '/v2/credentials/6f2712d4-31c3-4bcb-852f-ab6e58a6dd97', 'DMLC_ROLE': 'worker', 'PWD': '/', 'DMLC_NUM_SERVER': '1', 'AWS_EXECUTION_ENV': 'AWS_ECS_EC2'}\u001b[0m\n",
      "\u001b[31mProcess 37 is a shell:scheduler.\u001b[0m\n",
      "\u001b[31mProcess 38 is a shell:server.\u001b[0m\n",
      "\u001b[31mProcess 1 is a worker.\u001b[0m\n",
      "\u001b[31m[02/14/2019 16:51:44 INFO 140481196476224] Using default worker.\u001b[0m\n",
      "\u001b[31m[02/14/2019 16:51:44 INFO 140481196476224] Loaded iterator creator application/x-recordio-protobuf for content type ('application/x-recordio-protobuf', '1.0')\u001b[0m\n",
      "\u001b[31m[2019-02-14 16:51:44.966] [tensorio] [info] batch={\"data_pipeline\": \"/opt/ml/input/data/train\", \"num_examples\": 1000, \"features\": [{\"name\": \"label_values\", \"shape\": [1], \"storage_type\": \"dense\"}, {\"name\": \"values\", \"shape\": [5], \"storage_type\": \"dense\"}]}\u001b[0m\n",
      "\u001b[31m[02/14/2019 16:51:44 INFO 140481196476224] Verifying hyperparamemters...\u001b[0m\n",
      "\u001b[31m[02/14/2019 16:51:44 INFO 140481196476224] Hyperparameters are correct.\u001b[0m\n",
      "\u001b[31m[02/14/2019 16:51:44 INFO 140481196476224] Validating that feature_dim agrees with dimensions in training data...\u001b[0m\n",
      "\u001b[31m[02/14/2019 16:51:44 INFO 140481196476224] feature_dim is correct.\u001b[0m\n",
      "\u001b[31m[02/14/2019 16:51:44 INFO 140481196476224] Validating memory limits...\u001b[0m\n",
      "\u001b[31m[02/14/2019 16:51:44 INFO 140481196476224] Available memory in bytes: 15208189952\u001b[0m\n",
      "\u001b[31m[02/14/2019 16:51:44 INFO 140481196476224] Estimated sample size in bytes: 2048000\u001b[0m\n",
      "\u001b[31m[02/14/2019 16:51:44 INFO 140481196476224] Estimated memory needed to build the forest in bytes: 5120000\u001b[0m\n",
      "\u001b[31m[02/14/2019 16:51:44 INFO 140481196476224] Memory limits validated.\u001b[0m\n",
      "\u001b[31m[02/14/2019 16:51:44 INFO 140481196476224] Starting cluster sharing facilities...\u001b[0m\n",
      "\u001b[31m[02/14/2019 16:51:44 INFO 140481196476224] Create Store: dist_async\u001b[0m\n",
      "\u001b[31m[I 19-02-14 16:51:44] >>> starting FTP server on 0.0.0.0:8999, pid=1 <<<\u001b[0m\n",
      "\u001b[31m[02/14/2019 16:51:44 INFO 140479800796928] >>> starting FTP server on 0.0.0.0:8999, pid=1 <<<\u001b[0m\n",
      "\u001b[31m[I 19-02-14 16:51:44] poller: <class 'pyftpdlib.ioloop.Epoll'>\u001b[0m\n",
      "\u001b[31m[02/14/2019 16:51:44 INFO 140479800796928] poller: <class 'pyftpdlib.ioloop.Epoll'>\u001b[0m\n",
      "\u001b[31m[I 19-02-14 16:51:44] masquerade (NAT) address: None\u001b[0m\n",
      "\u001b[31m[02/14/2019 16:51:44 INFO 140479800796928] masquerade (NAT) address: None\u001b[0m\n",
      "\u001b[31m[I 19-02-14 16:51:44] passive ports: None\u001b[0m\n",
      "\u001b[31m[02/14/2019 16:51:44 INFO 140479800796928] passive ports: None\u001b[0m\n",
      "\u001b[31m[I 19-02-14 16:51:44] use sendfile(2): False\u001b[0m\n",
      "\u001b[31m[02/14/2019 16:51:44 INFO 140479800796928] use sendfile(2): False\u001b[0m\n",
      "\u001b[31m[02/14/2019 16:51:45 INFO 140481196476224] Cluster sharing facilities started.\u001b[0m\n",
      "\u001b[31m[02/14/2019 16:51:45 INFO 140481196476224] Verifying all workers are accessible...\u001b[0m\n",
      "\u001b[31m[02/14/2019 16:51:45 INFO 140481196476224] All workers accessible.\u001b[0m\n",
      "\u001b[31m[02/14/2019 16:51:45 INFO 140481196476224] Initializing Sampler...\u001b[0m\n",
      "\u001b[31m[02/14/2019 16:51:45 INFO 140481196476224] Sampler correctly initialized.\u001b[0m\n",
      "\u001b[31m#metrics {\"Metrics\": {\"initialize.time\": {\"count\": 1, \"max\": 786.7841720581055, \"sum\": 786.7841720581055, \"min\": 786.7841720581055}}, \"EndTime\": 1550163105.759951, \"Dimensions\": {\"Host\": \"algo-1\", \"Operation\": \"training\", \"Algorithm\": \"RandomCutForest\"}, \"StartTime\": 1550163104.948395}\n",
      "\u001b[0m\n",
      "\u001b[31m#metrics {\"Metrics\": {\"Max Batches Seen Between Resets\": {\"count\": 1, \"max\": 0, \"sum\": 0.0, \"min\": 0}, \"Number of Batches Since Last Reset\": {\"count\": 1, \"max\": 0, \"sum\": 0.0, \"min\": 0}, \"Number of Records Since Last Reset\": {\"count\": 1, \"max\": 0, \"sum\": 0.0, \"min\": 0}, \"Total Batches Seen\": {\"count\": 1, \"max\": 0, \"sum\": 0.0, \"min\": 0}, \"Total Records Seen\": {\"count\": 1, \"max\": 0, \"sum\": 0.0, \"min\": 0}, \"Max Records Seen Between Resets\": {\"count\": 1, \"max\": 0, \"sum\": 0.0, \"min\": 0}, \"Reset Count\": {\"count\": 1, \"max\": 0, \"sum\": 0.0, \"min\": 0}}, \"EndTime\": 1550163105.760189, \"Dimensions\": {\"Host\": \"algo-1\", \"Meta\": \"init_train_data_iter\", \"Operation\": \"training\", \"Algorithm\": \"RandomCutForest\"}, \"StartTime\": 1550163105.760142}\n",
      "\u001b[0m\n",
      "\u001b[31m[2019-02-14 16:51:45.761] [tensorio] [info] data_pipeline_stats={\"name\": \"/opt/ml/input/data/train\", \"epoch\": 0, \"duration\": 809, \"num_examples\": 1}\u001b[0m\n",
      "\u001b[31m[02/14/2019 16:51:45 INFO 140481196476224] Sampling training data...\u001b[0m\n",
      "\u001b[31m[02/14/2019 16:51:46 INFO 140481196476224] Sampling training data completed.\u001b[0m\n",
      "\u001b[31m#metrics {\"Metrics\": {\"epochs\": {\"count\": 1, \"max\": 1, \"sum\": 1.0, \"min\": 1}, \"update.time\": {\"count\": 1, \"max\": 928.7171363830566, \"sum\": 928.7171363830566, \"min\": 928.7171363830566}}, \"EndTime\": 1550163106.690774, \"Dimensions\": {\"Host\": \"algo-1\", \"Operation\": \"training\", \"Algorithm\": \"RandomCutForest\"}, \"StartTime\": 1550163105.760088}\n",
      "\u001b[0m\n",
      "\u001b[31m[02/14/2019 16:51:46 INFO 140481196476224] Early stop condition met. Stopping training.\u001b[0m\n",
      "\u001b[31m[02/14/2019 16:51:46 INFO 140481196476224] #progress_metric: host=algo-1, completed 100 % epochs\u001b[0m\n",
      "\u001b[31m#metrics {\"Metrics\": {\"Max Batches Seen Between Resets\": {\"count\": 1, \"max\": 342, \"sum\": 342.0, \"min\": 342}, \"Number of Batches Since Last Reset\": {\"count\": 1, \"max\": 342, \"sum\": 342.0, \"min\": 342}, \"Number of Records Since Last Reset\": {\"count\": 1, \"max\": 341061, \"sum\": 341061.0, \"min\": 341061}, \"Total Batches Seen\": {\"count\": 1, \"max\": 342, \"sum\": 342.0, \"min\": 342}, \"Total Records Seen\": {\"count\": 1, \"max\": 341061, \"sum\": 341061.0, \"min\": 341061}, \"Max Records Seen Between Resets\": {\"count\": 1, \"max\": 341061, \"sum\": 341061.0, \"min\": 341061}, \"Reset Count\": {\"count\": 1, \"max\": 1, \"sum\": 1.0, \"min\": 1}}, \"EndTime\": 1550163106.691198, \"Dimensions\": {\"Host\": \"algo-1\", \"Meta\": \"training_data_iter\", \"Operation\": \"training\", \"Algorithm\": \"RandomCutForest\", \"epoch\": 0}, \"StartTime\": 1550163105.761995}\n",
      "\u001b[0m\n",
      "\u001b[31m[02/14/2019 16:51:46 INFO 140481196476224] #throughput_metric: host=algo-1, train throughput=366990.019285 records/second\u001b[0m\n",
      "\u001b[31m[02/14/2019 16:51:46 INFO 140481196476224] Master node: building Random Cut Forest...\u001b[0m\n",
      "\u001b[31m[02/14/2019 16:51:46 INFO 140481196476224] Gathering samples...\u001b[0m\n",
      "\u001b[31m[02/14/2019 16:51:46 INFO 140481196476224] Samples gathered\u001b[0m\n",
      "\u001b[31m[02/14/2019 16:51:46 INFO 140481196476224] Building Random Cut Forest...\u001b[0m\n",
      "\u001b[31m[02/14/2019 16:51:46 INFO 140481196476224] Random Cut Forest built: \n",
      "\u001b[0m\n",
      "\u001b[31mForestInfo{num_trees: 50, num_samples_in_forest: 25600, num_samples_per_tree: 512, sample_dim: 5, shingle_size: 1, trees_num_nodes: [979, 981, 961, 983, 967, 983, 975, 983, 983, 957, 971, 983, 977, 981, 975, 965, 971, 971, 975, 983, 965, 979, 973, 961, 975, 981, 993, 959, 987, 969, 975, 969, 983, 977, 969, 979, 971, 971, 971, 955, 985, 969, 979, 969, 967, 967, 965, 971, 969, 975, ], trees_depth: [32, 26, 26, 23, 33, 29, 27, 26, 29, 32, 26, 26, 21, 27, 30, 30, 31, 32, 28, 35, 29, 27, 27, 31, 35, 29, 30, 28, 27, 26, 24, 30, 28, 27, 29, 29, 29, 29, 26, 23, 32, 24, 25, 30, 28, 31, 27, 22, 24, 28, ], max_num_nodes: 993, min_num_nodes: 955, avg_num_nodes: 973, max_tree_depth: 35, min_tree_depth: 21, avg_tree_depth: 28, mem_size: 8179024}\u001b[0m\n",
      "\u001b[31m#metrics {\"Metrics\": {\"finalize.time\": {\"count\": 1, \"max\": 63.30299377441406, \"sum\": 63.30299377441406, \"min\": 63.30299377441406}, \"model.bytes\": {\"count\": 1, \"max\": 8179024, \"sum\": 8179024.0, \"min\": 8179024}, \"fit_model.time\": {\"count\": 1, \"max\": 27.898073196411133, \"sum\": 27.898073196411133, \"min\": 27.898073196411133}}, \"EndTime\": 1550163106.754789, \"Dimensions\": {\"Host\": \"algo-1\", \"Operation\": \"training\", \"Algorithm\": \"RandomCutForest\"}, \"StartTime\": 1550163106.690866}\n",
      "\u001b[0m\n",
      "\u001b[31m[02/14/2019 16:51:46 INFO 140481196476224] Master node: Serializing the RandomCutForest model\u001b[0m\n",
      "\u001b[31m#metrics {\"Metrics\": {\"serialize_model.time\": {\"count\": 1, \"max\": 112.09797859191895, \"sum\": 112.09797859191895, \"min\": 112.09797859191895}}, \"EndTime\": 1550163106.867059, \"Dimensions\": {\"Host\": \"algo-1\", \"Operation\": \"training\", \"Algorithm\": \"RandomCutForest\"}, \"StartTime\": 1550163106.754883}\n",
      "\u001b[0m\n",
      "\u001b[31m[02/14/2019 16:51:46 INFO 140481196476224] Test data is not provided.\u001b[0m\n",
      "\u001b[31m[I 19-02-14 16:51:46] >>> shutting down FTP server (0 active fds) <<<\u001b[0m\n",
      "\u001b[31m[02/14/2019 16:51:46 INFO 140479800796928] >>> shutting down FTP server (0 active fds) <<<\u001b[0m\n",
      "\u001b[31m[2019-02-14 16:51:46.967] [tensorio] [info] data_pipeline_stats={\"name\": \"/opt/ml/input/data/train\", \"epoch\": 1, \"duration\": 1205, \"num_examples\": 342}\u001b[0m\n",
      "\u001b[31m[2019-02-14 16:51:46.967] [tensorio] [info] data_pipeline_stats={\"name\": \"/opt/ml/input/data/train\", \"duration\": 2014, \"num_epochs\": 2, \"num_examples\": 343}\u001b[0m\n",
      "\u001b[31m#metrics {\"Metrics\": {\"totaltime\": {\"count\": 1, \"max\": 2260.0419521331787, \"sum\": 2260.0419521331787, \"min\": 2260.0419521331787}, \"setuptime\": {\"count\": 1, \"max\": 185.5459213256836, \"sum\": 185.5459213256836, \"min\": 185.5459213256836}}, \"EndTime\": 1550163106.972885, \"Dimensions\": {\"Host\": \"algo-1\", \"Operation\": \"training\", \"Algorithm\": \"RandomCutForest\"}, \"StartTime\": 1550163106.867133}\n",
      "\u001b[0m\n"
     ]
    },
    {
     "name": "stdout",
     "output_type": "stream",
     "text": [
      "\n",
      "2019-02-14 16:51:55 Uploading - Uploading generated training model\n",
      "2019-02-14 16:51:55 Completed - Training job completed\n"
     ]
    },
    {
     "name": "stderr",
     "output_type": "stream",
     "text": [
      "INFO:sagemaker:Creating training-job with name: randomcutforest-2019-02-14-16-52-25-127\n"
     ]
    },
    {
     "name": "stdout",
     "output_type": "stream",
     "text": [
      "Billable seconds: 62\n",
      "2019-02-14 16:52:25 Starting - Starting the training job...\n",
      "2019-02-14 16:52:30 Starting - Launching requested ML instances......\n",
      "2019-02-14 16:53:36 Starting - Preparing the instances for training......\n",
      "2019-02-14 16:54:48 Downloading - Downloading input data...\n",
      "2019-02-14 16:55:13 Training - Downloading the training image.\n",
      "\u001b[31mDocker entrypoint called with argument(s): train\u001b[0m\n",
      "\u001b[31m[02/14/2019 16:55:31 INFO 140082380695360] Reading default configuration from /opt/amazon/lib/python2.7/site-packages/algorithm/resources/default-conf.json: {u'_ftp_port': 8999, u'num_samples_per_tree': 256, u'_tuning_objective_metric': u'', u'_num_gpus': u'auto', u'_log_level': u'info', u'_kvstore': u'dist_async', u'force_dense': u'true', u'epochs': 1, u'num_trees': 100, u'eval_metrics': [u'accuracy', u'precision_recall_fscore'], u'_num_kv_servers': u'auto', u'mini_batch_size': 1000}\u001b[0m\n",
      "\u001b[31m[02/14/2019 16:55:31 INFO 140082380695360] Reading provided configuration from /opt/ml/input/config/hyperparameters.json: {u'mini_batch_size': u'1000', u'feature_dim': u'5', u'num_samples_per_tree': u'512', u'num_trees': u'50'}\u001b[0m\n",
      "\u001b[31m[02/14/2019 16:55:31 INFO 140082380695360] Final configuration: {u'_ftp_port': 8999, u'num_samples_per_tree': u'512', u'_tuning_objective_metric': u'', u'_num_gpus': u'auto', u'_log_level': u'info', u'_kvstore': u'dist_async', u'force_dense': u'true', u'epochs': 1, u'feature_dim': u'5', u'num_trees': u'50', u'eval_metrics': [u'accuracy', u'precision_recall_fscore'], u'_num_kv_servers': u'auto', u'mini_batch_size': u'1000'}\u001b[0m\n",
      "\u001b[31m[02/14/2019 16:55:31 WARNING 140082380695360] Loggers have already been setup.\u001b[0m\n",
      "\u001b[31m[02/14/2019 16:55:31 INFO 140082380695360] Launching parameter server for role scheduler\u001b[0m\n",
      "\u001b[31m[02/14/2019 16:55:31 INFO 140082380695360] {'ECS_CONTAINER_METADATA_URI': 'http://169.254.170.2/v3/2088f32d-b600-479a-a206-27b30b0c8c16', 'PROTOCOL_BUFFERS_PYTHON_IMPLEMENTATION_VERSION': '2', 'PATH': '/opt/amazon/bin:/usr/local/nvidia/bin:/usr/local/sbin:/usr/local/bin:/usr/sbin:/usr/bin:/sbin:/bin:/opt/amazon/bin:/opt/amazon/bin', 'SAGEMAKER_HTTP_PORT': '8080', 'HOME': '/root', 'PYTHONUNBUFFERED': 'TRUE', 'CANONICAL_ENVROOT': '/opt/amazon', 'LD_LIBRARY_PATH': '/opt/amazon/lib/python2.7/site-packages/cv2/../../../../lib:/usr/local/nvidia/lib64:/opt/amazon/lib', 'MXNET_KVSTORE_BIGARRAY_BOUND': '400000000', 'LANG': 'en_US.utf8', 'DMLC_INTERFACE': 'ethwe', 'SHLVL': '1', 'AWS_REGION': 'us-east-1', 'NVIDIA_VISIBLE_DEVICES': 'all', 'TRAINING_JOB_NAME': 'randomcutforest-2019-02-14-16-52-25-127', 'PROTOCOL_BUFFERS_PYTHON_IMPLEMENTATION': 'cpp', 'ENVROOT': '/opt/amazon', 'SAGEMAKER_DATA_PATH': '/opt/ml', 'NVIDIA_DRIVER_CAPABILITIES': 'compute,utility', 'NVIDIA_REQUIRE_CUDA': 'cuda>=9.0', 'OMP_NUM_THREADS': '2', 'HOSTNAME': 'aws', 'AWS_CONTAINER_CREDENTIALS_RELATIVE_URI': '/v2/credentials/a1ea95ff-0ed6-48b1-b6d3-468f3368c5cb', 'PWD': '/', 'AWS_EXECUTION_ENV': 'AWS_ECS_EC2'}\u001b[0m\n",
      "\u001b[31m[02/14/2019 16:55:31 INFO 140082380695360] envs={'ECS_CONTAINER_METADATA_URI': 'http://169.254.170.2/v3/2088f32d-b600-479a-a206-27b30b0c8c16', 'PROTOCOL_BUFFERS_PYTHON_IMPLEMENTATION_VERSION': '2', 'DMLC_NUM_WORKER': '1', 'DMLC_PS_ROOT_PORT': '9000', 'PATH': '/opt/amazon/bin:/usr/local/nvidia/bin:/usr/local/sbin:/usr/local/bin:/usr/sbin:/usr/bin:/sbin:/bin:/opt/amazon/bin:/opt/amazon/bin', 'SAGEMAKER_HTTP_PORT': '8080', 'HOME': '/root', 'PYTHONUNBUFFERED': 'TRUE', 'CANONICAL_ENVROOT': '/opt/amazon', 'LD_LIBRARY_PATH': '/opt/amazon/lib/python2.7/site-packages/cv2/../../../../lib:/usr/local/nvidia/lib64:/opt/amazon/lib', 'MXNET_KVSTORE_BIGARRAY_BOUND': '400000000', 'LANG': 'en_US.utf8', 'DMLC_INTERFACE': 'ethwe', 'SHLVL': '1', 'DMLC_PS_ROOT_URI': '10.32.0.5', 'AWS_REGION': 'us-east-1', 'NVIDIA_VISIBLE_DEVICES': 'all', 'TRAINING_JOB_NAME': 'randomcutforest-2019-02-14-16-52-25-127', 'PROTOCOL_BUFFERS_PYTHON_IMPLEMENTATION': 'cpp', 'ENVROOT': '/opt/amazon', 'SAGEMAKER_DATA_PATH': '/opt/ml', 'NVIDIA_DRIVER_CAPABILITIES': 'compute,utility', 'NVIDIA_REQUIRE_CUDA': 'cuda>=9.0', 'OMP_NUM_THREADS': '2', 'HOSTNAME': 'aws', 'AWS_CONTAINER_CREDENTIALS_RELATIVE_URI': '/v2/credentials/a1ea95ff-0ed6-48b1-b6d3-468f3368c5cb', 'DMLC_ROLE': 'scheduler', 'PWD': '/', 'DMLC_NUM_SERVER': '1', 'AWS_EXECUTION_ENV': 'AWS_ECS_EC2'}\u001b[0m\n",
      "\u001b[31m[02/14/2019 16:55:31 INFO 140082380695360] Launching parameter server for role server\u001b[0m\n",
      "\u001b[31m[02/14/2019 16:55:31 INFO 140082380695360] {'ECS_CONTAINER_METADATA_URI': 'http://169.254.170.2/v3/2088f32d-b600-479a-a206-27b30b0c8c16', 'PROTOCOL_BUFFERS_PYTHON_IMPLEMENTATION_VERSION': '2', 'PATH': '/opt/amazon/bin:/usr/local/nvidia/bin:/usr/local/sbin:/usr/local/bin:/usr/sbin:/usr/bin:/sbin:/bin:/opt/amazon/bin:/opt/amazon/bin', 'SAGEMAKER_HTTP_PORT': '8080', 'HOME': '/root', 'PYTHONUNBUFFERED': 'TRUE', 'CANONICAL_ENVROOT': '/opt/amazon', 'LD_LIBRARY_PATH': '/opt/amazon/lib/python2.7/site-packages/cv2/../../../../lib:/usr/local/nvidia/lib64:/opt/amazon/lib', 'MXNET_KVSTORE_BIGARRAY_BOUND': '400000000', 'LANG': 'en_US.utf8', 'DMLC_INTERFACE': 'ethwe', 'SHLVL': '1', 'AWS_REGION': 'us-east-1', 'NVIDIA_VISIBLE_DEVICES': 'all', 'TRAINING_JOB_NAME': 'randomcutforest-2019-02-14-16-52-25-127', 'PROTOCOL_BUFFERS_PYTHON_IMPLEMENTATION': 'cpp', 'ENVROOT': '/opt/amazon', 'SAGEMAKER_DATA_PATH': '/opt/ml', 'NVIDIA_DRIVER_CAPABILITIES': 'compute,utility', 'NVIDIA_REQUIRE_CUDA': 'cuda>=9.0', 'OMP_NUM_THREADS': '2', 'HOSTNAME': 'aws', 'AWS_CONTAINER_CREDENTIALS_RELATIVE_URI': '/v2/credentials/a1ea95ff-0ed6-48b1-b6d3-468f3368c5cb', 'PWD': '/', 'AWS_EXECUTION_ENV': 'AWS_ECS_EC2'}\u001b[0m\n",
      "\u001b[31m[02/14/2019 16:55:31 INFO 140082380695360] envs={'ECS_CONTAINER_METADATA_URI': 'http://169.254.170.2/v3/2088f32d-b600-479a-a206-27b30b0c8c16', 'PROTOCOL_BUFFERS_PYTHON_IMPLEMENTATION_VERSION': '2', 'DMLC_NUM_WORKER': '1', 'DMLC_PS_ROOT_PORT': '9000', 'PATH': '/opt/amazon/bin:/usr/local/nvidia/bin:/usr/local/sbin:/usr/local/bin:/usr/sbin:/usr/bin:/sbin:/bin:/opt/amazon/bin:/opt/amazon/bin', 'SAGEMAKER_HTTP_PORT': '8080', 'HOME': '/root', 'PYTHONUNBUFFERED': 'TRUE', 'CANONICAL_ENVROOT': '/opt/amazon', 'LD_LIBRARY_PATH': '/opt/amazon/lib/python2.7/site-packages/cv2/../../../../lib:/usr/local/nvidia/lib64:/opt/amazon/lib', 'MXNET_KVSTORE_BIGARRAY_BOUND': '400000000', 'LANG': 'en_US.utf8', 'DMLC_INTERFACE': 'ethwe', 'SHLVL': '1', 'DMLC_PS_ROOT_URI': '10.32.0.5', 'AWS_REGION': 'us-east-1', 'NVIDIA_VISIBLE_DEVICES': 'all', 'TRAINING_JOB_NAME': 'randomcutforest-2019-02-14-16-52-25-127', 'PROTOCOL_BUFFERS_PYTHON_IMPLEMENTATION': 'cpp', 'ENVROOT': '/opt/amazon', 'SAGEMAKER_DATA_PATH': '/opt/ml', 'NVIDIA_DRIVER_CAPABILITIES': 'compute,utility', 'NVIDIA_REQUIRE_CUDA': 'cuda>=9.0', 'OMP_NUM_THREADS': '2', 'HOSTNAME': 'aws', 'AWS_CONTAINER_CREDENTIALS_RELATIVE_URI': '/v2/credentials/a1ea95ff-0ed6-48b1-b6d3-468f3368c5cb', 'DMLC_ROLE': 'server', 'PWD': '/', 'DMLC_NUM_SERVER': '1', 'AWS_EXECUTION_ENV': 'AWS_ECS_EC2'}\u001b[0m\n",
      "\u001b[31m[02/14/2019 16:55:31 INFO 140082380695360] Environment: {'ECS_CONTAINER_METADATA_URI': 'http://169.254.170.2/v3/2088f32d-b600-479a-a206-27b30b0c8c16', 'PROTOCOL_BUFFERS_PYTHON_IMPLEMENTATION_VERSION': '2', 'DMLC_PS_ROOT_PORT': '9000', 'DMLC_NUM_WORKER': '1', 'SAGEMAKER_HTTP_PORT': '8080', 'PATH': '/opt/amazon/bin:/usr/local/nvidia/bin:/usr/local/sbin:/usr/local/bin:/usr/sbin:/usr/bin:/sbin:/bin:/opt/amazon/bin:/opt/amazon/bin', 'PYTHONUNBUFFERED': 'TRUE', 'CANONICAL_ENVROOT': '/opt/amazon', 'LD_LIBRARY_PATH': '/opt/amazon/lib/python2.7/site-packages/cv2/../../../../lib:/usr/local/nvidia/lib64:/opt/amazon/lib', 'MXNET_KVSTORE_BIGARRAY_BOUND': '400000000', 'LANG': 'en_US.utf8', 'DMLC_INTERFACE': 'ethwe', 'SHLVL': '1', 'DMLC_PS_ROOT_URI': '10.32.0.5', 'AWS_REGION': 'us-east-1', 'NVIDIA_VISIBLE_DEVICES': 'all', 'TRAINING_JOB_NAME': 'randomcutforest-2019-02-14-16-52-25-127', 'HOME': '/root', 'PROTOCOL_BUFFERS_PYTHON_IMPLEMENTATION': 'cpp', 'ENVROOT': '/opt/amazon', 'SAGEMAKER_DATA_PATH': '/opt/ml', 'NVIDIA_DRIVER_CAPABILITIES': 'compute,utility', 'NVIDIA_REQUIRE_CUDA': 'cuda>=9.0', 'OMP_NUM_THREADS': '2', 'HOSTNAME': 'aws', 'AWS_CONTAINER_CREDENTIALS_RELATIVE_URI': '/v2/credentials/a1ea95ff-0ed6-48b1-b6d3-468f3368c5cb', 'DMLC_ROLE': 'worker', 'PWD': '/', 'DMLC_NUM_SERVER': '1', 'AWS_EXECUTION_ENV': 'AWS_ECS_EC2'}\u001b[0m\n",
      "\u001b[31mProcess 36 is a shell:scheduler.\u001b[0m\n",
      "\u001b[31mProcess 37 is a shell:server.\u001b[0m\n",
      "\u001b[31mProcess 1 is a worker.\u001b[0m\n",
      "\u001b[31m[02/14/2019 16:55:31 INFO 140082380695360] Using default worker.\u001b[0m\n",
      "\u001b[31m[02/14/2019 16:55:31 INFO 140082380695360] Loaded iterator creator application/x-recordio-protobuf for content type ('application/x-recordio-protobuf', '1.0')\u001b[0m\n",
      "\u001b[31m[2019-02-14 16:55:31.631] [tensorio] [info] batch={\"data_pipeline\": \"/opt/ml/input/data/train\", \"num_examples\": 1000, \"features\": [{\"name\": \"label_values\", \"shape\": [1], \"storage_type\": \"dense\"}, {\"name\": \"values\", \"shape\": [5], \"storage_type\": \"dense\"}]}\u001b[0m\n",
      "\u001b[31m[02/14/2019 16:55:31 INFO 140082380695360] Verifying hyperparamemters...\u001b[0m\n",
      "\u001b[31m[02/14/2019 16:55:31 INFO 140082380695360] Hyperparameters are correct.\u001b[0m\n",
      "\u001b[31m[02/14/2019 16:55:31 INFO 140082380695360] Validating that feature_dim agrees with dimensions in training data...\u001b[0m\n",
      "\u001b[31m[02/14/2019 16:55:31 INFO 140082380695360] feature_dim is correct.\u001b[0m\n",
      "\u001b[31m[02/14/2019 16:55:31 INFO 140082380695360] Validating memory limits...\u001b[0m\n",
      "\u001b[31m[02/14/2019 16:55:31 INFO 140082380695360] Available memory in bytes: 15193817088\u001b[0m\n",
      "\u001b[31m[02/14/2019 16:55:31 INFO 140082380695360] Estimated sample size in bytes: 2048000\u001b[0m\n",
      "\u001b[31m[02/14/2019 16:55:31 INFO 140082380695360] Estimated memory needed to build the forest in bytes: 5120000\u001b[0m\n",
      "\u001b[31m[02/14/2019 16:55:31 INFO 140082380695360] Memory limits validated.\u001b[0m\n",
      "\u001b[31m[02/14/2019 16:55:31 INFO 140082380695360] Starting cluster sharing facilities...\u001b[0m\n",
      "\u001b[31m[02/14/2019 16:55:31 INFO 140082380695360] Create Store: dist_async\u001b[0m\n",
      "\u001b[31m[I 19-02-14 16:55:31] >>> starting FTP server on 0.0.0.0:8999, pid=1 <<<\u001b[0m\n",
      "\u001b[31m[02/14/2019 16:55:31 INFO 140080626792192] >>> starting FTP server on 0.0.0.0:8999, pid=1 <<<\u001b[0m\n",
      "\u001b[31m[I 19-02-14 16:55:31] poller: <class 'pyftpdlib.ioloop.Epoll'>\u001b[0m\n",
      "\u001b[31m[02/14/2019 16:55:31 INFO 140080626792192] poller: <class 'pyftpdlib.ioloop.Epoll'>\u001b[0m\n",
      "\u001b[31m[I 19-02-14 16:55:31] masquerade (NAT) address: None\u001b[0m\n",
      "\u001b[31m[02/14/2019 16:55:31 INFO 140080626792192] masquerade (NAT) address: None\u001b[0m\n",
      "\u001b[31m[I 19-02-14 16:55:31] passive ports: None\u001b[0m\n",
      "\u001b[31m[02/14/2019 16:55:31 INFO 140080626792192] passive ports: None\u001b[0m\n",
      "\u001b[31m[02/14/2019 16:55:31 INFO 140080626792192] use sendfile(2): False\u001b[0m\n",
      "\u001b[31m[I 19-02-14 16:55:31] use sendfile(2): False\u001b[0m\n",
      "\u001b[31m[02/14/2019 16:55:32 INFO 140082380695360] Cluster sharing facilities started.\u001b[0m\n",
      "\u001b[31m[02/14/2019 16:55:32 INFO 140082380695360] Verifying all workers are accessible...\u001b[0m\n",
      "\u001b[31m[02/14/2019 16:55:32 INFO 140082380695360] All workers accessible.\u001b[0m\n",
      "\u001b[31m[02/14/2019 16:55:32 INFO 140082380695360] Initializing Sampler...\u001b[0m\n",
      "\u001b[31m[02/14/2019 16:55:32 INFO 140082380695360] Sampler correctly initialized.\u001b[0m\n",
      "\u001b[31m#metrics {\"Metrics\": {\"initialize.time\": {\"count\": 1, \"max\": 690.7858848571777, \"sum\": 690.7858848571777, \"min\": 690.7858848571777}}, \"EndTime\": 1550163332.333999, \"Dimensions\": {\"Host\": \"algo-1\", \"Operation\": \"training\", \"Algorithm\": \"RandomCutForest\"}, \"StartTime\": 1550163331.62904}\n",
      "\u001b[0m\n",
      "\u001b[31m#metrics {\"Metrics\": {\"Max Batches Seen Between Resets\": {\"count\": 1, \"max\": 0, \"sum\": 0.0, \"min\": 0}, \"Number of Batches Since Last Reset\": {\"count\": 1, \"max\": 0, \"sum\": 0.0, \"min\": 0}, \"Number of Records Since Last Reset\": {\"count\": 1, \"max\": 0, \"sum\": 0.0, \"min\": 0}, \"Total Batches Seen\": {\"count\": 1, \"max\": 0, \"sum\": 0.0, \"min\": 0}, \"Total Records Seen\": {\"count\": 1, \"max\": 0, \"sum\": 0.0, \"min\": 0}, \"Max Records Seen Between Resets\": {\"count\": 1, \"max\": 0, \"sum\": 0.0, \"min\": 0}, \"Reset Count\": {\"count\": 1, \"max\": 0, \"sum\": 0.0, \"min\": 0}}, \"EndTime\": 1550163332.334253, \"Dimensions\": {\"Host\": \"algo-1\", \"Meta\": \"init_train_data_iter\", \"Operation\": \"training\", \"Algorithm\": \"RandomCutForest\"}, \"StartTime\": 1550163332.334195}\n",
      "\u001b[0m\n",
      "\u001b[31m[2019-02-14 16:55:32.340] [tensorio] [info] data_pipeline_stats={\"name\": \"/opt/ml/input/data/train\", \"epoch\": 0, \"duration\": 710, \"num_examples\": 1}\u001b[0m\n",
      "\u001b[31m[02/14/2019 16:55:32 INFO 140082380695360] Sampling training data...\u001b[0m\n",
      "\u001b[31m[02/14/2019 16:55:36 INFO 140082380695360] Sampling training data completed.\u001b[0m\n",
      "\u001b[31m#metrics {\"Metrics\": {\"epochs\": {\"count\": 1, \"max\": 1, \"sum\": 1.0, \"min\": 1}, \"update.time\": {\"count\": 1, \"max\": 4052.868127822876, \"sum\": 4052.868127822876, \"min\": 4052.868127822876}}, \"EndTime\": 1550163336.393723, \"Dimensions\": {\"Host\": \"algo-1\", \"Operation\": \"training\", \"Algorithm\": \"RandomCutForest\"}, \"StartTime\": 1550163332.334127}\n",
      "\u001b[0m\n",
      "\u001b[31m[02/14/2019 16:55:36 INFO 140082380695360] Early stop condition met. Stopping training.\u001b[0m\n",
      "\u001b[31m[02/14/2019 16:55:36 INFO 140082380695360] #progress_metric: host=algo-1, completed 100 % epochs\u001b[0m\n",
      "\u001b[31m#metrics {\"Metrics\": {\"Max Batches Seen Between Resets\": {\"count\": 1, \"max\": 1432, \"sum\": 1432.0, \"min\": 1432}, \"Number of Batches Since Last Reset\": {\"count\": 1, \"max\": 1432, \"sum\": 1432.0, \"min\": 1432}, \"Number of Records Since Last Reset\": {\"count\": 1, \"max\": 1432000, \"sum\": 1432000.0, \"min\": 1432000}, \"Total Batches Seen\": {\"count\": 1, \"max\": 1432, \"sum\": 1432.0, \"min\": 1432}, \"Total Records Seen\": {\"count\": 1, \"max\": 1432000, \"sum\": 1432000.0, \"min\": 1432000}, \"Max Records Seen Between Resets\": {\"count\": 1, \"max\": 1432000, \"sum\": 1432000.0, \"min\": 1432000}, \"Reset Count\": {\"count\": 1, \"max\": 1, \"sum\": 1.0, \"min\": 1}}, \"EndTime\": 1550163336.394086, \"Dimensions\": {\"Host\": \"algo-1\", \"Meta\": \"training_data_iter\", \"Operation\": \"training\", \"Algorithm\": \"RandomCutForest\", \"epoch\": 0}, \"StartTime\": 1550163332.34082}\n",
      "\u001b[0m\n",
      "\u001b[31m[02/14/2019 16:55:36 INFO 140082380695360] #throughput_metric: host=algo-1, train throughput=353281.747896 records/second\u001b[0m\n",
      "\u001b[31m[02/14/2019 16:55:36 INFO 140082380695360] Master node: building Random Cut Forest...\u001b[0m\n",
      "\u001b[31m[02/14/2019 16:55:36 INFO 140082380695360] Gathering samples...\u001b[0m\n",
      "\u001b[31m[02/14/2019 16:55:36 INFO 140082380695360] Samples gathered\u001b[0m\n",
      "\u001b[31m[02/14/2019 16:55:36 INFO 140082380695360] Building Random Cut Forest...\u001b[0m\n",
      "\u001b[31m[02/14/2019 16:55:36 INFO 140082380695360] Random Cut Forest built: \n",
      "\u001b[0m\n",
      "\u001b[31mForestInfo{num_trees: 50, num_samples_in_forest: 25600, num_samples_per_tree: 512, sample_dim: 5, shingle_size: 1, trees_num_nodes: [1023, 1023, 1023, 1023, 1023, 1021, 1023, 1023, 1023, 1023, 1023, 1021, 1021, 1021, 1019, 1021, 1023, 1023, 1019, 1023, 1023, 1021, 1021, 1021, 1023, 1021, 1023, 1021, 1017, 1023, 1021, 1023, 1021, 1021, 1023, 1021, 1023, 1023, 1021, 1023, 1017, 1023, 1021, 1023, 1019, 1021, 1023, 1019, 1023, 1019, ], trees_depth: [34, 27, 27, 24, 29, 24, 34, 26, 25, 35, 29, 29, 26, 28, 26, 31, 25, 30, 28, 29, 24, 28, 24, 28, 30, 25, 34, 23, 36, 24, 28, 25, 24, 32, 26, 27, 29, 27, 27, 29, 28, 33, 26, 27, 23, 32, 26, 33, 23, 28, ], max_num_nodes: 1023, min_num_nodes: 1017, avg_num_nodes: 1021, max_tree_depth: 36, min_tree_depth: 23, avg_tree_depth: 27, mem_size: 8582560}\u001b[0m\n",
      "\u001b[31m#metrics {\"Metrics\": {\"finalize.time\": {\"count\": 1, \"max\": 64.24283981323242, \"sum\": 64.24283981323242, \"min\": 64.24283981323242}, \"model.bytes\": {\"count\": 1, \"max\": 8582560, \"sum\": 8582560.0, \"min\": 8582560}, \"fit_model.time\": {\"count\": 1, \"max\": 28.705120086669922, \"sum\": 28.705120086669922, \"min\": 28.705120086669922}}, \"EndTime\": 1550163336.458616, \"Dimensions\": {\"Host\": \"algo-1\", \"Operation\": \"training\", \"Algorithm\": \"RandomCutForest\"}, \"StartTime\": 1550163336.393815}\n",
      "\u001b[0m\n",
      "\u001b[31m[02/14/2019 16:55:36 INFO 140082380695360] Master node: Serializing the RandomCutForest model\u001b[0m\n",
      "\u001b[31m#metrics {\"Metrics\": {\"serialize_model.time\": {\"count\": 1, \"max\": 113.83199691772461, \"sum\": 113.83199691772461, \"min\": 113.83199691772461}}, \"EndTime\": 1550163336.572574, \"Dimensions\": {\"Host\": \"algo-1\", \"Operation\": \"training\", \"Algorithm\": \"RandomCutForest\"}, \"StartTime\": 1550163336.458689}\n",
      "\u001b[0m\n",
      "\u001b[31m[02/14/2019 16:55:36 INFO 140082380695360] Test data is not provided.\u001b[0m\n",
      "\u001b[31m[I 19-02-14 16:55:36] >>> shutting down FTP server (0 active fds) <<<\u001b[0m\n",
      "\u001b[31m[02/14/2019 16:55:36 INFO 140080626792192] >>> shutting down FTP server (0 active fds) <<<\u001b[0m\n",
      "\u001b[31m[2019-02-14 16:55:36.672] [tensorio] [info] data_pipeline_stats={\"name\": \"/opt/ml/input/data/train\", \"epoch\": 1, \"duration\": 4331, \"num_examples\": 1432}\u001b[0m\n",
      "\u001b[31m[2019-02-14 16:55:36.672] [tensorio] [info] data_pipeline_stats={\"name\": \"/opt/ml/input/data/train\", \"duration\": 5041, \"num_epochs\": 2, \"num_examples\": 1433}\u001b[0m\n",
      "\u001b[31m#metrics {\"Metrics\": {\"totaltime\": {\"count\": 1, \"max\": 5295.292139053345, \"sum\": 5295.292139053345, \"min\": 5295.292139053345}, \"setuptime\": {\"count\": 1, \"max\": 186.88511848449707, \"sum\": 186.88511848449707, \"min\": 186.88511848449707}}, \"EndTime\": 1550163336.681801, \"Dimensions\": {\"Host\": \"algo-1\", \"Operation\": \"training\", \"Algorithm\": \"RandomCutForest\"}, \"StartTime\": 1550163336.572663}\n",
      "\u001b[0m\n"
     ]
    },
    {
     "name": "stdout",
     "output_type": "stream",
     "text": [
      "\n",
      "2019-02-14 16:55:46 Uploading - Uploading generated training model\n",
      "2019-02-14 16:55:46 Completed - Training job completed\n",
      "Billable seconds: 58\n"
     ]
    }
   ],
   "source": [
    "rcfTRANSFER.fit(trainRecordSetTRANSFER,logs=True)\n",
    "rcfCASH_OUT.fit(trainRecordSetCASH_OUT,logs=True)"
   ]
  },
  {
   "cell_type": "code",
   "execution_count": 19,
   "metadata": {},
   "outputs": [
    {
     "name": "stdout",
     "output_type": "stream",
     "text": [
      "Training job name: randomcutforest-2019-02-14-16-48-12-953\n"
     ]
    }
   ],
   "source": [
    "print('Training job name: {}'.format(rcfTRANSFER.latest_training_job.job_name))"
   ]
  },
  {
   "cell_type": "code",
   "execution_count": 20,
   "metadata": {},
   "outputs": [
    {
     "name": "stdout",
     "output_type": "stream",
     "text": [
      "Training job name: randomcutforest-2019-02-14-16-52-25-127\n"
     ]
    }
   ],
   "source": [
    "print('Training job name: {}'.format(rcfCASH_OUT.latest_training_job.job_name))"
   ]
  },
  {
   "cell_type": "code",
   "execution_count": 21,
   "metadata": {},
   "outputs": [
    {
     "name": "stderr",
     "output_type": "stream",
     "text": [
      "INFO:sagemaker:Creating model with name: randomcutforest-2019-02-14-16-56-57-364\n",
      "INFO:sagemaker:Creating endpoint with name randomcutforest-2019-02-14-16-48-12-953\n"
     ]
    },
    {
     "name": "stdout",
     "output_type": "stream",
     "text": [
      "---------------------------------------------------------------------------!"
     ]
    },
    {
     "name": "stderr",
     "output_type": "stream",
     "text": [
      "INFO:sagemaker:Creating model with name: randomcutforest-2019-02-14-17-03-17-535\n",
      "INFO:sagemaker:Creating endpoint with name randomcutforest-2019-02-14-16-52-25-127\n"
     ]
    },
    {
     "name": "stdout",
     "output_type": "stream",
     "text": [
      "---------------------------------------------------------------------------!"
     ]
    }
   ],
   "source": [
    "rcf_inferenceTRANSFER = rcfTRANSFER.deploy(\n",
    "    initial_instance_count=1,\n",
    "    instance_type='ml.m4.xlarge',\n",
    ")\n",
    "rcf_inferenceCASH_OUT = rcfCASH_OUT.deploy(\n",
    "    initial_instance_count=1,\n",
    "    instance_type='ml.m4.xlarge',\n",
    ")"
   ]
  },
  {
   "cell_type": "code",
   "execution_count": 24,
   "metadata": {},
   "outputs": [
    {
     "name": "stdout",
     "output_type": "stream",
     "text": [
      "TRANSFER Endpoint name: randomcutforest-2019-02-14-16-48-12-953\n"
     ]
    }
   ],
   "source": [
    "print('TRANSFER Endpoint name: {}'.format(rcf_inferenceTRANSFER.endpoint))"
   ]
  },
  {
   "cell_type": "code",
   "execution_count": 25,
   "metadata": {},
   "outputs": [
    {
     "name": "stdout",
     "output_type": "stream",
     "text": [
      "CASH_OUT Endpoint name: randomcutforest-2019-02-14-16-52-25-127\n"
     ]
    }
   ],
   "source": [
    "print('CASH_OUT Endpoint name: {}'.format(rcf_inferenceCASH_OUT.endpoint))"
   ]
  },
  {
   "cell_type": "code",
   "execution_count": 26,
   "metadata": {},
   "outputs": [],
   "source": [
    "from sagemaker.predictor import csv_serializer, json_deserializer\n",
    "\n",
    "rcf_inferenceTRANSFER.content_type = 'text/csv'\n",
    "rcf_inferenceTRANSFER.serializer = csv_serializer\n",
    "rcf_inferenceTRANSFER.accept = 'application/json'\n",
    "rcf_inferenceTRANSFER.deserializer = json_deserializer\n",
    "\n",
    "rcf_inferenceCASH_OUT.content_type = 'text/csv'\n",
    "rcf_inferenceCASH_OUT.serializer = csv_serializer\n",
    "rcf_inferenceCASH_OUT.accept = 'application/json'\n",
    "rcf_inferenceCASH_OUT.deserializer = json_deserializer"
   ]
  },
  {
   "cell_type": "code",
   "execution_count": 27,
   "metadata": {},
   "outputs": [],
   "source": [
    "dataTestXTRANSFER = dataTestTRANSFER.loc[:, dataTestTRANSFER.columns != 'isFraud']\n",
    "dataTestXMTRANSFER = dataTestXTRANSFER.as_matrix()\n",
    "dataTestYTRANSFER = dataTestTRANSFER.isFraud\n",
    "resultsTRANSFER = rcf_inferenceTRANSFER.predict(dataTestXMTRANSFER)\n",
    "\n",
    "dataTestSS_CASH_OUT = dataTestCASH_OUT[:100000]\n",
    "dataTestXCASH_OUT = dataTestSS_CASH_OUT.loc[:, dataTestSS_CASH_OUT.columns != 'isFraud']\n",
    "dataTestXMCASH_OUT = dataTestXCASH_OUT.as_matrix()\n",
    "dataTestYCASH_OUT = dataTestCASH_OUT.isFraud\n",
    "resultsCASH_OUT = rcf_inferenceCASH_OUT.predict(dataTestXMCASH_OUT)"
   ]
  },
  {
   "cell_type": "code",
   "execution_count": 28,
   "metadata": {},
   "outputs": [
    {
     "data": {
      "text/plain": [
       "(85266, 5)"
      ]
     },
     "execution_count": 28,
     "metadata": {},
     "output_type": "execute_result"
    }
   ],
   "source": [
    "dataTestXMTRANSFER.shape"
   ]
  },
  {
   "cell_type": "code",
   "execution_count": 29,
   "metadata": {},
   "outputs": [
    {
     "data": {
      "text/plain": [
       "(100000, 5)"
      ]
     },
     "execution_count": 29,
     "metadata": {},
     "output_type": "execute_result"
    }
   ],
   "source": [
    "dataTestXMCASH_OUT.shape"
   ]
  },
  {
   "cell_type": "code",
   "execution_count": 33,
   "metadata": {},
   "outputs": [
    {
     "name": "stderr",
     "output_type": "stream",
     "text": [
      "/home/ec2-user/anaconda3/envs/python3/lib/python3.6/site-packages/ipykernel/__main__.py:2: SettingWithCopyWarning: \n",
      "A value is trying to be set on a copy of a slice from a DataFrame.\n",
      "Try using .loc[row_indexer,col_indexer] = value instead\n",
      "\n",
      "See the caveats in the documentation: http://pandas.pydata.org/pandas-docs/stable/indexing.html#indexing-view-versus-copy\n",
      "  from ipykernel import kernelapp as app\n",
      "/home/ec2-user/anaconda3/envs/python3/lib/python3.6/site-packages/ipykernel/__main__.py:5: SettingWithCopyWarning: \n",
      "A value is trying to be set on a copy of a slice from a DataFrame.\n",
      "Try using .loc[row_indexer,col_indexer] = value instead\n",
      "\n",
      "See the caveats in the documentation: http://pandas.pydata.org/pandas-docs/stable/indexing.html#indexing-view-versus-copy\n"
     ]
    }
   ],
   "source": [
    "scoresTRANSFER = [datum['score'] for datum in resultsTRANSFER['scores']]\n",
    "dataTestTRANSFER['score'] = pd.Series(scoresTRANSFER, index=dataTestTRANSFER.index)\n",
    "\n",
    "scoresCASH_OUT = [datum['score'] for datum in resultsCASH_OUT['scores']]\n",
    "dataTestSS_CASH_OUT['score'] = pd.Series(scoresCASH_OUT, index=dataTestSS_CASH_OUT.index)"
   ]
  },
  {
   "cell_type": "code",
   "execution_count": 34,
   "metadata": {},
   "outputs": [
    {
     "data": {
      "image/png": "[encoded data removed]",
      "text/plain": [
       "<Figure size 720x288 with 2 Axes>"
      ]
     },
     "metadata": {},
     "output_type": "display_data"
    }
   ],
   "source": [
    "fig, ax1 = plt.subplots()\n",
    "ax2 = ax1.twinx()\n",
    "\n",
    "#\n",
    "# *Try this out* - change `start` and `end` to zoom in on the \n",
    "# anomaly found earlier in this notebook\n",
    "#\n",
    "#start, end = 0, len(dataTest)\n",
    "start, end = 0, 100\n",
    "dataTestTRANSFER_subset = dataTestTRANSFER[start:end]\n",
    "\n",
    "ax1.plot(dataTestTRANSFER_subset['isFraud'], color='C0', alpha=0.8)\n",
    "ax2.plot(dataTestTRANSFER_subset['score'], color='C1')\n",
    "\n",
    "ax1.grid(which='major', axis='both')\n",
    "\n",
    "ax1.set_ylabel('is Fraud', color='C0')\n",
    "ax2.set_ylabel('Anomaly Score', color='C1')\n",
    "\n",
    "ax1.tick_params('y', colors='C0')\n",
    "ax2.tick_params('y', colors='C1')\n",
    "\n",
    "ax1.set_ylim(0, 1)\n",
    "ax2.set_ylim(min(dataTestTRANSFER_subset.score), max(dataTestTRANSFER_subset.score))\n",
    "#ax1.set_xlim(0,len(dataTest))\n",
    "fig.set_figwidth(10)"
   ]
  },
  {
   "cell_type": "code",
   "execution_count": 35,
   "metadata": {},
   "outputs": [
    {
     "data": {
      "text/html": [
       "<div>\n",
       "<style scoped>\n",
       "    .dataframe tbody tr th:only-of-type {\n",
       "        vertical-align: middle;\n",
       "    }\n",
       "\n",
       "    .dataframe tbody tr th {\n",
       "        vertical-align: top;\n",
       "    }\n",
       "\n",
       "    .dataframe thead th {\n",
       "        text-align: right;\n",
       "    }\n",
       "</style>\n",
       "<table border=\"1\" class=\"dataframe\">\n",
       "  <thead>\n",
       "    <tr style=\"text-align: right;\">\n",
       "      <th></th>\n",
       "      <th>isFraud</th>\n",
       "      <th>amount</th>\n",
       "      <th>oldbalanceOrg</th>\n",
       "      <th>newbalanceOrig</th>\n",
       "      <th>oldbalanceDest</th>\n",
       "      <th>newbalanceDest</th>\n",
       "      <th>score</th>\n",
       "    </tr>\n",
       "  </thead>\n",
       "  <tbody>\n",
       "    <tr>\n",
       "      <th>4493789</th>\n",
       "      <td>0</td>\n",
       "      <td>13849394.93</td>\n",
       "      <td>0.00</td>\n",
       "      <td>0.0</td>\n",
       "      <td>2.885448e+08</td>\n",
       "      <td>3.023942e+08</td>\n",
       "      <td>7.336524</td>\n",
       "    </tr>\n",
       "    <tr>\n",
       "      <th>4181294</th>\n",
       "      <td>0</td>\n",
       "      <td>779571.94</td>\n",
       "      <td>0.00</td>\n",
       "      <td>0.0</td>\n",
       "      <td>2.724047e+08</td>\n",
       "      <td>2.731842e+08</td>\n",
       "      <td>7.200060</td>\n",
       "    </tr>\n",
       "    <tr>\n",
       "      <th>4137921</th>\n",
       "      <td>0</td>\n",
       "      <td>15581774.13</td>\n",
       "      <td>0.00</td>\n",
       "      <td>0.0</td>\n",
       "      <td>1.851411e+08</td>\n",
       "      <td>2.510078e+08</td>\n",
       "      <td>6.750823</td>\n",
       "    </tr>\n",
       "    <tr>\n",
       "      <th>4171359</th>\n",
       "      <td>0</td>\n",
       "      <td>27045408.93</td>\n",
       "      <td>196209.71</td>\n",
       "      <td>0.0</td>\n",
       "      <td>2.281226e+08</td>\n",
       "      <td>2.551680e+08</td>\n",
       "      <td>6.986701</td>\n",
       "    </tr>\n",
       "    <tr>\n",
       "      <th>3980217</th>\n",
       "      <td>0</td>\n",
       "      <td>48464778.69</td>\n",
       "      <td>0.00</td>\n",
       "      <td>0.0</td>\n",
       "      <td>2.629401e+08</td>\n",
       "      <td>3.114049e+08</td>\n",
       "      <td>7.351045</td>\n",
       "    </tr>\n",
       "    <tr>\n",
       "      <th>4146648</th>\n",
       "      <td>0</td>\n",
       "      <td>36115106.82</td>\n",
       "      <td>0.00</td>\n",
       "      <td>0.0</td>\n",
       "      <td>2.362896e+08</td>\n",
       "      <td>2.724047e+08</td>\n",
       "      <td>7.104427</td>\n",
       "    </tr>\n",
       "  </tbody>\n",
       "</table>\n",
       "</div>"
      ],
      "text/plain": [
       "         isFraud       amount  oldbalanceOrg  newbalanceOrig  oldbalanceDest  \\\n",
       "4493789        0  13849394.93           0.00             0.0    2.885448e+08   \n",
       "4181294        0    779571.94           0.00             0.0    2.724047e+08   \n",
       "4137921        0  15581774.13           0.00             0.0    1.851411e+08   \n",
       "4171359        0  27045408.93      196209.71             0.0    2.281226e+08   \n",
       "3980217        0  48464778.69           0.00             0.0    2.629401e+08   \n",
       "4146648        0  36115106.82           0.00             0.0    2.362896e+08   \n",
       "\n",
       "         newbalanceDest     score  \n",
       "4493789    3.023942e+08  7.336524  \n",
       "4181294    2.731842e+08  7.200060  \n",
       "4137921    2.510078e+08  6.750823  \n",
       "4171359    2.551680e+08  6.986701  \n",
       "3980217    3.114049e+08  7.351045  \n",
       "4146648    2.724047e+08  7.104427  "
      ]
     },
     "execution_count": 35,
     "metadata": {},
     "output_type": "execute_result"
    }
   ],
   "source": [
    "score_mean = dataTestTRANSFER['score'].mean()\n",
    "score_std = dataTestTRANSFER['score'].std()\n",
    "score_cutoff = score_mean + 20*score_std\n",
    "\n",
    "anomalies = dataTestTRANSFER[dataTestTRANSFER['score'] > score_cutoff]\n",
    "anomalies"
   ]
  },
  {
   "cell_type": "code",
   "execution_count": null,
   "metadata": {},
   "outputs": [],
   "source": [
    "###\n",
    "### CONCLUSION: pretty bad model, even training on just the TRANSFER subset.\n",
    "###"
   ]
  }
 ],
 "metadata": {
  "kernelspec": {
   "display_name": "conda_python3",
   "language": "python",
   "name": "conda_python3"
  },
  "language_info": {
   "codemirror_mode": {
    "name": "ipython",
    "version": 3
   },
   "file_extension": ".py",
   "mimetype": "text/x-python",
   "name": "python",
   "nbconvert_exporter": "python",
   "pygments_lexer": "ipython3",
   "version": "3.6.5"
  }
 },
 "nbformat": 4,
 "nbformat_minor": 2
}
